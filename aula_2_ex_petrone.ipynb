{
 "cells": [
  {
   "cell_type": "markdown",
   "metadata": {},
   "source": [
    "# Geral\n",
    "\n",
    "Etherpad link: http://piratepad.net/vBYPhoe22O\n",
    "\n",
    "##### Repositório:\n",
    "\n",
    "https: https://github.com/tpetrone/tera_aula_4.git\n",
    "\n",
    "ssh: git@github.com:tpetrone/tera_aula_4.git\n",
    "\n",
    "##### Git commands:\n",
    "`git clone url`\n",
    "\n",
    "`cd tera_aula_4`\n",
    "\n",
    "`jupyter notebook`\n",
    "\n"
   ]
  },
  {
   "cell_type": "markdown",
   "metadata": {},
   "source": [
    "# range datatype"
   ]
  },
  {
   "cell_type": "code",
   "execution_count": 2,
   "metadata": {},
   "outputs": [
    {
     "data": {
      "text/plain": [
       "[0, 1, 2, 3, 4, 5, 6, 7, 8, 9, 10, 11, 12, 13, 14, 15, 16, 17, 18, 19]"
      ]
     },
     "execution_count": 2,
     "metadata": {},
     "output_type": "execute_result"
    }
   ],
   "source": [
    "r = range(0,20)\n",
    "list(r)"
   ]
  },
  {
   "cell_type": "markdown",
   "metadata": {},
   "source": [
    "### Exercício\n",
    "\n",
    "Use For loop e range datatype para criar uma lista de 20 elementos onde cada elemento é o valor do seu índice acrescido de 5"
   ]
  },
  {
   "cell_type": "code",
   "execution_count": 3,
   "metadata": {},
   "outputs": [
    {
     "name": "stdout",
     "output_type": "stream",
     "text": [
      "[5, 6, 7, 8, 9, 10, 11, 12, 13, 14, 15, 16, 17, 18, 19, 20, 21, 22, 23]\n"
     ]
    }
   ],
   "source": [
    "l = []\n",
    "for item in range(0,19):\n",
    "    l.append(item + 5)\n",
    "print(l)"
   ]
  },
  {
   "cell_type": "markdown",
   "metadata": {},
   "source": [
    "# type() built-in function\n",
    "\n",
    "atalhos:\n",
    "\n",
    "métodos: `. + tab`\n",
    "\n",
    "doc: `shift + tab`"
   ]
  },
  {
   "cell_type": "code",
   "execution_count": 12,
   "metadata": {},
   "outputs": [
    {
     "data": {
      "text/plain": [
       "list"
      ]
     },
     "execution_count": 12,
     "metadata": {},
     "output_type": "execute_result"
    }
   ],
   "source": [
    "# Playground\n",
    "\n",
    "l = [1,2,3,4]\n",
    "type(l)"
   ]
  },
  {
   "cell_type": "markdown",
   "metadata": {},
   "source": [
    "# OOP em Python\n",
    "\n",
    "##### Referência:\n",
    "https://docs.python.org/3/library/stdtypes.html#numeric-types-int-float-complex"
   ]
  },
  {
   "cell_type": "markdown",
   "metadata": {},
   "source": [
    "#### Anotações:\n",
    "\n"
   ]
  },
  {
   "cell_type": "code",
   "execution_count": null,
   "metadata": {
    "collapsed": true
   },
   "outputs": [],
   "source": [
    "# Playground"
   ]
  },
  {
   "cell_type": "markdown",
   "metadata": {},
   "source": [
    "### Numbers\n",
    "\n",
    "##### Referência\n",
    "https://docs.python.org/3/library/stdtypes.html#numeric-types-int-float-complex\n"
   ]
  },
  {
   "cell_type": "markdown",
   "metadata": {},
   "source": [
    "##### .is_integer() => float"
   ]
  },
  {
   "cell_type": "code",
   "execution_count": 16,
   "metadata": {},
   "outputs": [
    {
     "data": {
      "text/plain": [
       "True"
      ]
     },
     "execution_count": 16,
     "metadata": {},
     "output_type": "execute_result"
    }
   ],
   "source": [
    "x = 2.0\n",
    "x.is_integer()"
   ]
  },
  {
   "cell_type": "markdown",
   "metadata": {},
   "source": [
    "### Strings\n",
    "\n",
    "#### Referência:\n",
    "https://docs.python.org/3/library/stdtypes.html#text-sequence-type-str\n"
   ]
  },
  {
   "cell_type": "markdown",
   "metadata": {},
   "source": [
    "##### .find()"
   ]
  },
  {
   "cell_type": "code",
   "execution_count": 18,
   "metadata": {},
   "outputs": [
    {
     "data": {
      "text/plain": [
       "'w'"
      ]
     },
     "execution_count": 18,
     "metadata": {},
     "output_type": "execute_result"
    }
   ],
   "source": [
    "s = \"adflsjwhjafjah\"\n",
    "s.find(\"w\")\n",
    "s[6]"
   ]
  },
  {
   "cell_type": "markdown",
   "metadata": {},
   "source": [
    "##### .split()"
   ]
  },
  {
   "cell_type": "code",
   "execution_count": 23,
   "metadata": {},
   "outputs": [
    {
     "data": {
      "text/plain": [
       "['fdksaj', 'klfds']"
      ]
     },
     "execution_count": 23,
     "metadata": {},
     "output_type": "execute_result"
    }
   ],
   "source": [
    "s = \"fdksaj klfds\"\n",
    "s = s.split(\" \")\n",
    "s"
   ]
  },
  {
   "cell_type": "markdown",
   "metadata": {},
   "source": [
    "##### .upper()"
   ]
  },
  {
   "cell_type": "code",
   "execution_count": 25,
   "metadata": {},
   "outputs": [
    {
     "data": {
      "text/plain": [
       "'DFLKASJFFSLDKJA'"
      ]
     },
     "execution_count": 25,
     "metadata": {},
     "output_type": "execute_result"
    }
   ],
   "source": [
    "s = \"dflkasjffsldkja\"\n",
    "s.upper()"
   ]
  },
  {
   "cell_type": "markdown",
   "metadata": {},
   "source": [
    "##### .count()"
   ]
  },
  {
   "cell_type": "code",
   "execution_count": 28,
   "metadata": {},
   "outputs": [
    {
     "data": {
      "text/plain": [
       "1"
      ]
     },
     "execution_count": 28,
     "metadata": {},
     "output_type": "execute_result"
    }
   ],
   "source": [
    "s = \"ksl;jgsdfg\"\n",
    "s.count(\";\")"
   ]
  },
  {
   "cell_type": "markdown",
   "metadata": {},
   "source": [
    "### Exercícios\n",
    "\n",
    "A partir da string (que também é uma sequência):\n",
    "\n",
    "`\"Lorem ipsum dolor sit amet, consectetur adipiscing elit. Pellentesque in lorem ultricies ante tristique convallis non in nibh. Aenean congue imperdiet lacus ac suscipit. Donec vitae mauris eget tortor convallis sodales nec in arcu. Pellentesque finibus sapien ut nisl accumsan pulvinar. Praesent vestibulum lacinia tortor, gravida feugiat elit varius vel. Pellentesque viverra dignissim ullamcorper. Integer ac imperdiet magna. Quisque vehicula odio ac justo egestas, at bibendum sem ultrices. Duis eu risus vehicula, aliquam arcu non, porta felis. Fusce tristique tortor ut ante varius tincidunt. In augue urna, imperdiet sed pretium nec, feugiat ac justo. Suspendisse lacus massa, vestibulum ut ex eget, fringilla auctor orci. Nunc molestie tempus vulputate. Curabitur diam purus, imperdiet sed pretium et, pretium vitae nunc.\"`\n",
    "\n",
    "1-) Identifique a posição da sequência em que há a ocorrência de `ull`\n",
    "\n",
    "2-) Divida a string nessa posição\n",
    "\n",
    "3-) Passe a primeira porção da string para letras maiúsculas e a segunda para minúsculas\n",
    "\n",
    "4-) Conte quantas vezes a letra \"r\" aparece"
   ]
  },
  {
   "cell_type": "code",
   "execution_count": 40,
   "metadata": {},
   "outputs": [
    {
     "name": "stdout",
     "output_type": "stream",
     "text": [
      "387\n",
      "['Lorem ipsum dolor sit amet, consectetur adipiscing elit. Pellentesque in lorem ultricies ante tristique convallis non in nibh. Aenean congue imperdiet lacus ac suscipit. Donec vitae mauris eget tortor convallis sodales nec in arcu. Pellentesque finibus sapien ut nisl accumsan pulvinar. Praesent vestibulum lacinia tortor, gravida feugiat elit varius vel. Pellentesque viverra dignissim ', 'amcorper. Integer ac imperdiet magna. Quisque vehicula odio ac justo egestas, at bibendum sem ultrices. Duis eu risus vehicula, aliquam arcu non, porta felis. Fusce tristique tortor ut ante varius tincidunt. In augue urna, imperdiet sed pretium nec, feugiat ac justo. Suspendisse lacus massa, vestibulum ut ex eget, fringilla auctor orci. Nunc molestie tempus vulputate. Curabitur diam purus, imperdiet sed pretium et, pretium vitae nunc.']\n",
      "LOREM IPSUM DOLOR SIT AMET, CONSECTETUR ADIPISCING ELIT. PELLENTESQUE IN LOREM ULTRICIES ANTE TRISTIQUE CONVALLIS NON IN NIBH. AENEAN CONGUE IMPERDIET LACUS AC SUSCIPIT. DONEC VITAE MAURIS EGET TORTOR CONVALLIS SODALES NEC IN ARCU. PELLENTESQUE FINIBUS SAPIEN UT NISL ACCUMSAN PULVINAR. PRAESENT VESTIBULUM LACINIA TORTOR, GRAVIDA FEUGIAT ELIT VARIUS VEL. PELLENTESQUE VIVERRA DIGNISSIM \n",
      "amcorper. integer ac imperdiet magna. quisque vehicula odio ac justo egestas, at bibendum sem ultrices. duis eu risus vehicula, aliquam arcu non, porta felis. fusce tristique tortor ut ante varius tincidunt. in augue urna, imperdiet sed pretium nec, feugiat ac justo. suspendisse lacus massa, vestibulum ut ex eget, fringilla auctor orci. nunc molestie tempus vulputate. curabitur diam purus, imperdiet sed pretium et, pretium vitae nunc.\n",
      "43\n"
     ]
    }
   ],
   "source": [
    "s =\"Lorem ipsum dolor sit amet, consectetur adipiscing elit. Pellentesque in lorem ultricies ante tristique convallis non in nibh. Aenean congue imperdiet lacus ac suscipit. Donec vitae mauris eget tortor convallis sodales nec in arcu. Pellentesque finibus sapien ut nisl accumsan pulvinar. Praesent vestibulum lacinia tortor, gravida feugiat elit varius vel. Pellentesque viverra dignissim ullamcorper. Integer ac imperdiet magna. Quisque vehicula odio ac justo egestas, at bibendum sem ultrices. Duis eu risus vehicula, aliquam arcu non, porta felis. Fusce tristique tortor ut ante varius tincidunt. In augue urna, imperdiet sed pretium nec, feugiat ac justo. Suspendisse lacus massa, vestibulum ut ex eget, fringilla auctor orci. Nunc molestie tempus vulputate. Curabitur diam purus, imperdiet sed pretium et, pretium vitae nunc.\"\n",
    "print(s.find(\"ull\"))\n",
    "\n",
    "s1 = s.split(\"ull\")\n",
    "print(s1)\n",
    "\n",
    "print(s1[0].upper())\n",
    "print(s1[1].lower())\n",
    "\n",
    "print(s.count(\"r\"))\n"
   ]
  },
  {
   "cell_type": "markdown",
   "metadata": {},
   "source": [
    "## Lists\n",
    "\n",
    "##### Referência\n",
    "https://docs.python.org/3/library/stdtypes.html#lists\n"
   ]
  },
  {
   "cell_type": "markdown",
   "metadata": {},
   "source": [
    "##### .sort()"
   ]
  },
  {
   "cell_type": "code",
   "execution_count": 49,
   "metadata": {},
   "outputs": [
    {
     "data": {
      "text/plain": [
       "[1, 3, 5, 5, 6, 8]"
      ]
     },
     "execution_count": 49,
     "metadata": {},
     "output_type": "execute_result"
    }
   ],
   "source": [
    "l = [1,5,6,8,3,5]\n",
    "l.sort()\n",
    "l"
   ]
  },
  {
   "cell_type": "markdown",
   "metadata": {},
   "source": [
    "##### .reverse()"
   ]
  },
  {
   "cell_type": "code",
   "execution_count": 50,
   "metadata": {},
   "outputs": [
    {
     "data": {
      "text/plain": [
       "[8, 6, 5, 5, 3, 1]"
      ]
     },
     "execution_count": 50,
     "metadata": {},
     "output_type": "execute_result"
    }
   ],
   "source": [
    "l.reverse()\n",
    "l"
   ]
  },
  {
   "cell_type": "markdown",
   "metadata": {},
   "source": [
    "##### .append()"
   ]
  },
  {
   "cell_type": "code",
   "execution_count": 51,
   "metadata": {},
   "outputs": [
    {
     "data": {
      "text/plain": [
       "[8, 6, 5, 5, 3, 1, 'cinco']"
      ]
     },
     "execution_count": 51,
     "metadata": {},
     "output_type": "execute_result"
    }
   ],
   "source": [
    "l.append(\"cinco\")\n",
    "l"
   ]
  },
  {
   "cell_type": "markdown",
   "metadata": {},
   "source": [
    "##### .count()"
   ]
  },
  {
   "cell_type": "code",
   "execution_count": 52,
   "metadata": {},
   "outputs": [
    {
     "data": {
      "text/plain": [
       "2"
      ]
     },
     "execution_count": 52,
     "metadata": {},
     "output_type": "execute_result"
    }
   ],
   "source": [
    "l.count(5)"
   ]
  },
  {
   "cell_type": "markdown",
   "metadata": {},
   "source": [
    "##### .extend()"
   ]
  },
  {
   "cell_type": "code",
   "execution_count": 54,
   "metadata": {},
   "outputs": [
    {
     "data": {
      "text/plain": [
       "[8, 6, 5, 5, 3, 1, 'cinco', 1, 3, 4, 5, 1, 3, 4, 5]"
      ]
     },
     "execution_count": 54,
     "metadata": {},
     "output_type": "execute_result"
    }
   ],
   "source": [
    "l.extend([1,3,4,5])\n",
    "l"
   ]
  },
  {
   "cell_type": "markdown",
   "metadata": {},
   "source": [
    "#### Exercício\n",
    "\n",
    "Dada a lista: \n",
    "\n",
    "`[171, 137, 32, 105, 87, 23, 195, 24, 63, 91, 41, 91, 55, 171, 96, 12, 109, 110, 199, 142, 133, 22, 165, 189, 137, 64, 62, 117, 105, 159, 107, 171, 179, 79, 48, 69, 142, 186, 55, 124, 184, 124, 96, 100, 73, 60, 133, 69, 164, 91]`\n",
    "\n",
    "1-) Coloque a lista em ordem crescente\n",
    "\n",
    "2-) Coloque a lista em ordem decrescente\n",
    "\n",
    "3-) Adicione o elemento `312`\n",
    "\n",
    "4-) Conte quantas vezes o número `91` aparece nessa sequência\n"
   ]
  },
  {
   "cell_type": "code",
   "execution_count": 61,
   "metadata": {},
   "outputs": [
    {
     "name": "stdout",
     "output_type": "stream",
     "text": [
      "[12, 22, 23, 24, 32, 41, 48, 55, 55, 60, 62, 63, 64, 69, 69, 73, 79, 87, 91, 91, 91, 96, 96, 100, 105, 105, 107, 109, 110, 117, 124, 124, 133, 133, 137, 137, 142, 142, 159, 164, 165, 171, 171, 171, 179, 184, 186, 189, 195, 199]\n"
     ]
    }
   ],
   "source": [
    "#(1)\n",
    "l = [171, 137, 32, 105, 87, 23, 195, 24, 63, 91, 41, 91, 55, 171, 96, 12, 109, 110, 199, 142, 133, 22, 165, 189, 137, 64, 62, 117, 105, 159, 107, 171, 179, 79, 48, 69, 142, 186, 55, 124, 184, 124, 96, 100, 73, 60, 133, 69, 164, 91]\n",
    "l.sort()\n",
    "print(l)"
   ]
  },
  {
   "cell_type": "code",
   "execution_count": 71,
   "metadata": {},
   "outputs": [
    {
     "name": "stdout",
     "output_type": "stream",
     "text": [
      "[199, 195, 189, 186, 184, 179, 171, 171, 171, 165, 164, 159, 142, 142, 137, 137, 133, 133, 124, 124, 117, 110, 109, 107, 105, 105, 100, 96, 96, 91, 91, 91, 87, 79, 73, 69, 69, 64, 63, 62, 60, 55, 55, 48, 41, 32, 24, 23, 22, 12]\n"
     ]
    }
   ],
   "source": [
    "#(2)\n",
    "l = [171, 137, 32, 105, 87, 23, 195, 24, 63, 91, 41, 91, 55, 171, 96, 12, 109, 110, 199, 142, 133, 22, 165, 189, 137, 64, 62, 117, 105, 159, 107, 171, 179, 79, 48, 69, 142, 186, 55, 124, 184, 124, 96, 100, 73, 60, 133, 69, 164, 91]\n",
    "l.sort()\n",
    "l.reverse()\n",
    "print(l)"
   ]
  },
  {
   "cell_type": "code",
   "execution_count": 74,
   "metadata": {},
   "outputs": [
    {
     "name": "stdout",
     "output_type": "stream",
     "text": [
      "[199, 195, 189, 186, 184, 179, 171, 171, 171, 165, 164, 159, 142, 142, 137, 137, 133, 133, 124, 124, 117, 110, 109, 107, 105, 105, 100, 96, 96, 91, 91, 91, 87, 79, 73, 69, 69, 64, 63, 62, 60, 55, 55, 48, 41, 32, 24, 23, 22, 12, 312, 312, 312]\n"
     ]
    }
   ],
   "source": [
    "#(3)\n",
    "l.append(312)\n",
    "print(l)"
   ]
  },
  {
   "cell_type": "code",
   "execution_count": 75,
   "metadata": {},
   "outputs": [
    {
     "data": {
      "text/plain": [
       "3"
      ]
     },
     "execution_count": 75,
     "metadata": {},
     "output_type": "execute_result"
    }
   ],
   "source": [
    "#(4)\n",
    "l.count(91)"
   ]
  },
  {
   "cell_type": "markdown",
   "metadata": {},
   "source": [
    "### Tuples\n",
    "\n",
    "##### Referência\n",
    "\n",
    "https://docs.python.org/3/library/stdtypes.html#tuples"
   ]
  },
  {
   "cell_type": "markdown",
   "metadata": {},
   "source": [
    "##### .index()"
   ]
  },
  {
   "cell_type": "code",
   "execution_count": 77,
   "metadata": {},
   "outputs": [
    {
     "data": {
      "text/plain": [
       "2"
      ]
     },
     "execution_count": 77,
     "metadata": {},
     "output_type": "execute_result"
    }
   ],
   "source": [
    "t = (1,2,\"oi\")\n",
    "t.index(\"oi\")"
   ]
  },
  {
   "cell_type": "markdown",
   "metadata": {},
   "source": [
    "### Dictionaries"
   ]
  },
  {
   "cell_type": "code",
   "execution_count": 78,
   "metadata": {},
   "outputs": [
    {
     "data": {
      "text/plain": [
       "{'k1': 1, 'k2': 2}"
      ]
     },
     "execution_count": 78,
     "metadata": {},
     "output_type": "execute_result"
    }
   ],
   "source": [
    "d = {\"k1\" : 1, \"k2\" : 2}\n",
    "d"
   ]
  },
  {
   "cell_type": "markdown",
   "metadata": {},
   "source": [
    "##### .keys()"
   ]
  },
  {
   "cell_type": "code",
   "execution_count": 80,
   "metadata": {},
   "outputs": [
    {
     "data": {
      "text/plain": [
       "['k1', 'k2']"
      ]
     },
     "execution_count": 80,
     "metadata": {},
     "output_type": "execute_result"
    }
   ],
   "source": [
    "list(d.keys())"
   ]
  },
  {
   "cell_type": "markdown",
   "metadata": {},
   "source": [
    "##### .values()"
   ]
  },
  {
   "cell_type": "code",
   "execution_count": 82,
   "metadata": {},
   "outputs": [
    {
     "data": {
      "text/plain": [
       "[1, 2]"
      ]
     },
     "execution_count": 82,
     "metadata": {},
     "output_type": "execute_result"
    }
   ],
   "source": [
    "list(d.values())"
   ]
  },
  {
   "cell_type": "markdown",
   "metadata": {},
   "source": [
    "##### .items()"
   ]
  },
  {
   "cell_type": "code",
   "execution_count": 87,
   "metadata": {},
   "outputs": [
    {
     "data": {
      "text/plain": [
       "dict_items([('k1', 10), ('k2', 20), ('k3', 30)])"
      ]
     },
     "execution_count": 87,
     "metadata": {},
     "output_type": "execute_result"
    }
   ],
   "source": [
    "d.items()"
   ]
  },
  {
   "cell_type": "markdown",
   "metadata": {},
   "source": [
    "###### OBS.: Cuidado com o tipo de retorno"
   ]
  },
  {
   "cell_type": "markdown",
   "metadata": {},
   "source": [
    "Dado o dicionário:\n",
    "\n",
    "`{\"k1\" : 10, \"k2\" : 20, \"k3\" : 30}`\n",
    "\n",
    "1-) Crie uma lista com apenas as chaves\n",
    "\n",
    "2-) Crie uma lista com apenas os valores\n",
    "\n",
    "3-) Use **`for loop`**  e  **`.items()`**  para criar um dicionário com as mesmas chaves e os valores ao quadrado"
   ]
  },
  {
   "cell_type": "code",
   "execution_count": 86,
   "metadata": {},
   "outputs": [
    {
     "data": {
      "text/plain": [
       "['k1', 'k2', 'k3']"
      ]
     },
     "execution_count": 86,
     "metadata": {},
     "output_type": "execute_result"
    }
   ],
   "source": [
    "# (1)\n",
    "d = {\"k1\" : 10, \"k2\" : 20, \"k3\" : 30}\n",
    "list(d.keys())"
   ]
  },
  {
   "cell_type": "code",
   "execution_count": 85,
   "metadata": {},
   "outputs": [
    {
     "data": {
      "text/plain": [
       "[1, 2]"
      ]
     },
     "execution_count": 85,
     "metadata": {},
     "output_type": "execute_result"
    }
   ],
   "source": [
    "# (2)\n",
    "list(d.values())"
   ]
  },
  {
   "cell_type": "code",
   "execution_count": 22,
   "metadata": {},
   "outputs": [
    {
     "name": "stdout",
     "output_type": "stream",
     "text": [
      "k1\n",
      "10\n",
      "k2\n",
      "20\n",
      "k3\n",
      "30\n",
      "{'k1': 100, 'k2': 400, 'k3': 900}\n"
     ]
    }
   ],
   "source": [
    "#(3)\n",
    "d1= {\"k1\" : 10, \"k2\" : 20, \"k3\" : 30}\n",
    "d2 = {}\n",
    "\n",
    "for (key, value) in d1.items():\n",
    "    print(key)\n",
    "    print(value)\n",
    "    d2[key] = value**2\n",
    "print(d2)\n"
   ]
  },
  {
   "cell_type": "markdown",
   "metadata": {},
   "source": [
    "### Sets\n",
    "\n",
    "##### Referência:\n",
    "https://docs.python.org/3/library/stdtypes.html#set-types-set-frozenset"
   ]
  },
  {
   "cell_type": "markdown",
   "metadata": {},
   "source": [
    "#### .add()"
   ]
  },
  {
   "cell_type": "code",
   "execution_count": 25,
   "metadata": {},
   "outputs": [
    {
     "data": {
      "text/plain": [
       "{1, 2, 3, 4, 5}"
      ]
     },
     "execution_count": 25,
     "metadata": {},
     "output_type": "execute_result"
    }
   ],
   "source": [
    "s = {1,2,3,4}\n",
    "s.add(5)\n",
    "s"
   ]
  },
  {
   "cell_type": "markdown",
   "metadata": {},
   "source": [
    "#### .remove()"
   ]
  },
  {
   "cell_type": "code",
   "execution_count": 26,
   "metadata": {},
   "outputs": [
    {
     "data": {
      "text/plain": [
       "{1, 3, 6, 7}"
      ]
     },
     "execution_count": 26,
     "metadata": {},
     "output_type": "execute_result"
    }
   ],
   "source": [
    "s = {1,3,4,6,7}\n",
    "s.remove(4)\n",
    "s"
   ]
  },
  {
   "cell_type": "markdown",
   "metadata": {},
   "source": [
    "#### .issubset()"
   ]
  },
  {
   "cell_type": "code",
   "execution_count": 29,
   "metadata": {},
   "outputs": [
    {
     "data": {
      "text/plain": [
       "False"
      ]
     },
     "execution_count": 29,
     "metadata": {},
     "output_type": "execute_result"
    }
   ],
   "source": [
    "s1 = {1,2,3,15}\n",
    "s2 = {1,2,3,4,5,6}\n",
    "\n",
    "s1.issubset(s2)"
   ]
  },
  {
   "cell_type": "markdown",
   "metadata": {},
   "source": [
    "#### .isdisjoint()"
   ]
  },
  {
   "cell_type": "code",
   "execution_count": 31,
   "metadata": {},
   "outputs": [
    {
     "data": {
      "text/plain": [
       "True"
      ]
     },
     "execution_count": 31,
     "metadata": {},
     "output_type": "execute_result"
    }
   ],
   "source": [
    "s1.isdisjoint(s2)\n",
    "s1= {1,2,3}\n",
    "s2 = {4,5,6}\n",
    "s1.isdisjoint(s2)"
   ]
  },
  {
   "cell_type": "markdown",
   "metadata": {},
   "source": [
    "#### .intersection()"
   ]
  },
  {
   "cell_type": "code",
   "execution_count": 33,
   "metadata": {},
   "outputs": [
    {
     "data": {
      "text/plain": [
       "{4}"
      ]
     },
     "execution_count": 33,
     "metadata": {},
     "output_type": "execute_result"
    }
   ],
   "source": [
    "s1= {1,2,3,4}\n",
    "s2 = {4,5,6}\n",
    "s1.intersection(s2)"
   ]
  },
  {
   "cell_type": "markdown",
   "metadata": {},
   "source": [
    "#### .difference()"
   ]
  },
  {
   "cell_type": "code",
   "execution_count": 35,
   "metadata": {},
   "outputs": [
    {
     "data": {
      "text/plain": [
       "{5, 6}"
      ]
     },
     "execution_count": 35,
     "metadata": {},
     "output_type": "execute_result"
    }
   ],
   "source": [
    "s1= {1,2,3,4}\n",
    "s2 = {4,5,6}\n",
    "s2.difference(s1)"
   ]
  },
  {
   "cell_type": "markdown",
   "metadata": {},
   "source": [
    "### Exercício\n",
    "Dados os sets:\n",
    "\n",
    "`s1 = {0, 5, 7, 22, 24, 32, 34, 36, 52, 54, 55, 60, 63, 71, 77, 94, 126, 128, 133}`, \n",
    "\n",
    "`s2 = {7, 36, 57, 77}` e\n",
    "\n",
    "`s3 = {150, 165, 290}`\n",
    "\n",
    "1-) Verifique se existe algum `subset`\n",
    "\n",
    "2-) Verifique se existe algum `disjoint`\n",
    "\n",
    "3-) Quais os elementos que não correspondem entre `'disjoints'`\n",
    "\n",
    "4-) Faça uma operação com `s1` para que não haja nenhum `disjoint` entre os sets\n",
    "\n"
   ]
  },
  {
   "cell_type": "code",
   "execution_count": 51,
   "metadata": {},
   "outputs": [
    {
     "name": "stdout",
     "output_type": "stream",
     "text": [
      "False\n",
      "False\n",
      "==========\n",
      "False\n",
      "True\n",
      "==========\n",
      "todos\n",
      "==========\n",
      "{0, 32, 34, 128, 36, 5, 133, 7, 71, 165, 77, 52, 55, 22, 54, 24, 126, 60, 94, 63}\n",
      "==========\n",
      "False\n"
     ]
    }
   ],
   "source": [
    "s1 = {0, 5, 7, 22, 24, 32, 34, 36, 52, 54, 55, 60, 63, 71, 77, 94, 126, 128, 133}\n",
    "s2 = {7, 36, 57, 77}\n",
    "s3 = {150, 165, 290}\n",
    "\n",
    "print(s2.issubset(s1))\n",
    "print(s3.issubset(s1))\n",
    "print(10*\"=\")\n",
    "print(s2.isdisjoint(s1))\n",
    "print(s3.isdisjoint(s1))\n",
    "print(10*\"=\")\n",
    "print(\"todos\")\n",
    "print(10*\"=\")\n",
    "s1.add(165)\n",
    "print(s1)\n",
    "print(10*\"=\")\n",
    "print(s3.isdisjoint(s1))\n",
    "\n"
   ]
  },
  {
   "cell_type": "markdown",
   "metadata": {},
   "source": [
    "# Classes"
   ]
  },
  {
   "cell_type": "markdown",
   "metadata": {},
   "source": [
    "##### Assinatura"
   ]
  },
  {
   "cell_type": "code",
   "execution_count": 52,
   "metadata": {
    "collapsed": true
   },
   "outputs": [],
   "source": [
    "class Exemplo1(object):\n",
    "    pass"
   ]
  },
  {
   "cell_type": "markdown",
   "metadata": {},
   "source": [
    "##### Instanciação"
   ]
  },
  {
   "cell_type": "code",
   "execution_count": 53,
   "metadata": {},
   "outputs": [
    {
     "data": {
      "text/plain": [
       "__main__.Exemplo1"
      ]
     },
     "execution_count": 53,
     "metadata": {},
     "output_type": "execute_result"
    }
   ],
   "source": [
    "inst = Exemplo1()\n",
    "type(inst)"
   ]
  },
  {
   "cell_type": "markdown",
   "metadata": {},
   "source": [
    "##### Construtor\n",
    "\n",
    "`def __init__(self)`"
   ]
  },
  {
   "cell_type": "code",
   "execution_count": 60,
   "metadata": {},
   "outputs": [
    {
     "name": "stdout",
     "output_type": "stream",
     "text": [
      "breed_thousand\n",
      "thousand\n",
      "Eu estou dormindo\n",
      "3.14 breed_thousand\n"
     ]
    }
   ],
   "source": [
    "class Dog(object):\n",
    "    \n",
    "    attrClass = 3.14\n",
    "    primeiro_nome = \"o cachorro tem\"\n",
    "    \n",
    "    def __init__(self, breed=\"breed_thousand\"):\n",
    "        self.breed = breed\n",
    "        self.attr1 = breed.split(\"_\")[1]\n",
    "\n",
    "    def dormir(self):\n",
    "        print(\"Eu estou dormindo\")\n",
    "        print(str(Dog.attrClass) + \" \" + self.breed)\n",
    "        \n",
    "breed_one = Dog()\n",
    "print(breed_one.breed)\n",
    "print(breed_one.attr1)\n",
    "\n",
    "breed_one.dormir()\n",
    "\n",
    "\n"
   ]
  },
  {
   "cell_type": "code",
   "execution_count": null,
   "metadata": {
    "collapsed": true
   },
   "outputs": [],
   "source": []
  },
  {
   "cell_type": "markdown",
   "metadata": {},
   "source": [
    "##### Métodos"
   ]
  },
  {
   "cell_type": "code",
   "execution_count": 19,
   "metadata": {
    "collapsed": true
   },
   "outputs": [],
   "source": [
    "class Nome_da_classe(object):\n",
    "        def nome_do_metodo(self):\n",
    "        pass\n",
    "    pass"
   ]
  },
  {
   "cell_type": "markdown",
   "metadata": {},
   "source": [
    "##### self keyword"
   ]
  },
  {
   "cell_type": "code",
   "execution_count": 20,
   "metadata": {
    "collapsed": true
   },
   "outputs": [],
   "source": [
    "class Nome_da_classe(object):\n",
    "    def nome_do_metodo(self):\n",
    "        pass\n",
    "    pass"
   ]
  },
  {
   "cell_type": "markdown",
   "metadata": {},
   "source": [
    "##### Atributos"
   ]
  },
  {
   "cell_type": "code",
   "execution_count": 18,
   "metadata": {},
   "outputs": [],
   "source": [
    "def nome_do_metodo(self, param1):\n",
    "    self.nome_do_atributo = valor_do_atributo\n",
    "    pass"
   ]
  },
  {
   "cell_type": "markdown",
   "metadata": {},
   "source": [
    "#### Atributos de classe"
   ]
  },
  {
   "cell_type": "code",
   "execution_count": null,
   "metadata": {
    "collapsed": true
   },
   "outputs": [],
   "source": [
    "class Nome_da_classe(object):\n",
    "    atributo_de_classe = valor_do_atributo\n",
    "    \n",
    "    def metodo1(self):\n",
    "        self.atributo_de_instancia = Nome_da_Classe.atributo de classe"
   ]
  },
  {
   "cell_type": "markdown",
   "metadata": {},
   "source": [
    "### Exercício 1\n",
    "\n",
    "Crie uma classe para cada tipo de triângulo:\n",
    "```\n",
    "1-) Equilátero => 3 lados iguais\n",
    "2-) Isósceles => 2 lados iguais\n",
    "3-) Reto => cateto + cateto + hipotenusa;\n",
    "```\n",
    "\n",
    "Os construtores devem conter o menor número de parâmetros possível;\n",
    "Todas as classes devem conter um método chamado `area()` que calcula a área do triângulo;\n",
    "Os objetos devem conter os seguintes atributos:\n",
    "\n",
    "```\n",
    "base, \n",
    "altura e \n",
    "hipotenusa => (quando Reto)\n",
    "```\n",
    "\n",
    "Dados:\n",
    "\n",
    "$Hipotenusa = \\sqrt{cateto1^2 + cateto2^2}$\n",
    "\n",
    "$Altura = \\frac{lado * \\sqrt{3}}{2}$\n",
    "\n",
    "$Area = \\frac{base * altura}{2}$ "
   ]
  },
  {
   "cell_type": "code",
   "execution_count": 61,
   "metadata": {},
   "outputs": [
    {
     "name": "stdout",
     "output_type": "stream",
     "text": [
      "6.928203230275509\n"
     ]
    }
   ],
   "source": [
    "class Equilatero(object):\n",
    "    def __init__(self, lado):\n",
    "        self.base = lado\n",
    "        self.altura = lado * ( (3 ** 0.5) / 2 )\n",
    "\n",
    "    def area(self):\n",
    "        return self.base * self.altura /2\n",
    "\n",
    "t1 = Equilatero(4)\n",
    "t2 = Equilatero(5)\n",
    "\n",
    "print(t1.area())\n",
    "print(t2.area())"
   ]
  },
  {
   "cell_type": "code",
   "execution_count": 62,
   "metadata": {},
   "outputs": [
    {
     "name": "stdout",
     "output_type": "stream",
     "text": [
      "12.12435565298214\n"
     ]
    }
   ],
   "source": [
    "class Isosceles(object):\n",
    "    def __init__(self, base, lado):\n",
    "        self.base = base\n",
    "        self.altura = lado * ( (3 ** 0.5) / 2 )\n",
    "    \n",
    "    def area(self):\n",
    "        return self.base * self.altura /2\n",
    "        \n",
    "t2 = Isosceles(4,7)\n",
    "print(t2.area())"
   ]
  },
  {
   "cell_type": "code",
   "execution_count": 69,
   "metadata": {},
   "outputs": [
    {
     "name": "stdout",
     "output_type": "stream",
     "text": [
      "17.5\n"
     ]
    },
    {
     "data": {
      "text/plain": [
       "5"
      ]
     },
     "execution_count": 69,
     "metadata": {},
     "output_type": "execute_result"
    }
   ],
   "source": [
    "class Reto(object):\n",
    "    \n",
    "    def __init__(self, cateto1, cateto2):\n",
    "        self.base = cateto1\n",
    "        self.altura = cateto2\n",
    "        self.hipotenusa = ((self.base**2 + self.altura**2)**0.5)\n",
    "\n",
    "\n",
    "    def area(self):\n",
    "        return self.base * self.altura /2\n",
    "\n",
    "t3 = Reto(7,5)\n",
    "print(t3.area())\n",
    "t3.altura"
   ]
  },
  {
   "cell_type": "markdown",
   "metadata": {},
   "source": [
    "# Herança"
   ]
  },
  {
   "cell_type": "code",
   "execution_count": 81,
   "metadata": {},
   "outputs": [
    {
     "name": "stdout",
     "output_type": "stream",
     "text": [
      "Dog created\n",
      "Dog\n"
     ]
    }
   ],
   "source": [
    "class Animal(object):\n",
    "    attrClass = \"oi\"\n",
    "    \n",
    "    def __init__(self):\n",
    "        print(\"Animal created\")\n",
    "\n",
    "\n",
    "    def whoAmI(self):\n",
    "        print(\"Animal\")\n",
    "\n",
    "\n",
    "    def eat(self):\n",
    "        print(\"Eating\")\n",
    "        \n",
    "\n",
    "class Dog(Animal):\n",
    "    def __init__(self):\n",
    "        print(\"Dog created\")\n",
    "\n",
    "\n",
    "    def whoAmI(self):\n",
    "        print(\"Dog\")\n",
    "\n",
    "\n",
    "    def bark(self):\n",
    "        print(\"Woof!\")\n",
    "\n",
    "dog = Dog()\n",
    "dog.whoAmI()\n"
   ]
  },
  {
   "cell_type": "code",
   "execution_count": 85,
   "metadata": {},
   "outputs": [
    {
     "name": "stdout",
     "output_type": "stream",
     "text": [
      "17.5\n",
      "0.4330127018922193\n"
     ]
    }
   ],
   "source": [
    "class Triangle(object):\n",
    "    \n",
    "    def area(self):\n",
    "        return self.base * self.altura /2\n",
    "    \n",
    "class Reto(Triangle):  \n",
    "    def __init__(self, cateto1, cateto2):\n",
    "        self.base = cateto1\n",
    "        self.altura = cateto2\n",
    "        self.hipotenusa = ((self.base**2 + self.altura**2)**0.5)\n",
    "\n",
    "class Equilatero(Triangle):\n",
    "    def __init__(self, lado):\n",
    "        self.base = lado\n",
    "        self.altura = lado * ( (3 ** 0.5) / 2 )\n",
    "\n",
    "t1 = Reto(5,7)\n",
    "print(t1.area())\n",
    "\n",
    "t2 = Equilatero(1)\n",
    "print(t2.area())"
   ]
  },
  {
   "cell_type": "markdown",
   "metadata": {},
   "source": [
    "### Exercício\n",
    "\n",
    "Crie uma classe `Improved_list` que possua todas as características da classe 'list' e um método novo chamado `square_me` que retorna uma nova lista com os elementos ao quadrado."
   ]
  },
  {
   "cell_type": "code",
   "execution_count": 104,
   "metadata": {},
   "outputs": [
    {
     "data": {
      "text/plain": [
       "[1, 2, 3, 4]"
      ]
     },
     "execution_count": 104,
     "metadata": {},
     "output_type": "execute_result"
    }
   ],
   "source": [
    "l1 = [1,2,3,4]\n",
    "# print(type(l1))\n",
    "\n",
    "class Improved_list(list):\n",
    "    \n",
    "    def __init__(self, lst):\n",
    "        self.extend(lst)\n",
    "        \n",
    "    def square_me(self):\n",
    "        return [item**2 for item in self]\n",
    "\n",
    "l2 = Improved_list([1,2,3,4])\n",
    "l2"
   ]
  },
  {
   "cell_type": "markdown",
   "metadata": {},
   "source": [
    "# Métodos especiais"
   ]
  },
  {
   "cell_type": "markdown",
   "metadata": {},
   "source": [
    "### `__str__(self)`"
   ]
  },
  {
   "cell_type": "code",
   "execution_count": 131,
   "metadata": {},
   "outputs": [
    {
     "name": "stdout",
     "output_type": "stream",
     "text": [
      "Dog created\n",
      "Eu sou um cachorro\n"
     ]
    }
   ],
   "source": [
    "class Dog(object):\n",
    "        def __init__(self):\n",
    "            print(\"Dog created\")\n",
    "        \n",
    "        def whoAmI(self):\n",
    "            print(\"Dog\")\n",
    "\n",
    "\n",
    "        def bark(self):\n",
    "            print(\"Woof!\")\n",
    "\n",
    "        def __str__(self):\n",
    "            return \"Eu sou um cachorro\"\n",
    "\n",
    "dog = Dog()\n",
    "print(dog)"
   ]
  },
  {
   "cell_type": "markdown",
   "metadata": {},
   "source": [
    "### `__len__(self)`"
   ]
  },
  {
   "cell_type": "code",
   "execution_count": 130,
   "metadata": {},
   "outputs": [
    {
     "name": "stdout",
     "output_type": "stream",
     "text": [
      "15\n"
     ]
    }
   ],
   "source": [
    "class Dog(list):\n",
    "    def __init__(self, size):\n",
    "        self.size = size\n",
    "        \n",
    "    def whoAmI(self):\n",
    "        print(\"Dog\")\n",
    "\n",
    "    def __len__(self):\n",
    "        return self.size\n",
    "    \n",
    "dog = Dog(15)\n",
    "print(len(dog))"
   ]
  },
  {
   "cell_type": "markdown",
   "metadata": {},
   "source": [
    "### Exercício\n",
    "\n",
    "Faça que a função `print()` do objeto `Reto` exiba: `\"Isso é um triângulo reto de catetos ...\"`\n",
    "\n",
    "Faça que a função `len()` do objeto `Reto` exiba o valor da hipotenusa."
   ]
  },
  {
   "cell_type": "code",
   "execution_count": 145,
   "metadata": {},
   "outputs": [
    {
     "name": "stdout",
     "output_type": "stream",
     "text": [
      "Isso é um triângulo reto de catetos 3 e 4\n"
     ]
    },
    {
     "data": {
      "text/plain": [
       "5"
      ]
     },
     "execution_count": 145,
     "metadata": {},
     "output_type": "execute_result"
    }
   ],
   "source": [
    "class Reto(Triangle):  \n",
    "    def __init__(self, cateto1, cateto2):\n",
    "        self.base = cateto1\n",
    "        self.altura = cateto2\n",
    "        self.hipotenusa = ((self.base**2 + self.altura**2)**0.5)\n",
    "\n",
    "    def __str__(self):\n",
    "        return \"Isso é um triângulo reto de catetos \" + str(self.base) + \" e \" + str(self.altura)\n",
    "\n",
    "    def __len__(self):\n",
    "        return int(self.hipotenusa)\n",
    "\n",
    "t1 = Reto(3,4)\n",
    "print(t1)\n",
    "len(t1)"
   ]
  },
  {
   "cell_type": "markdown",
   "metadata": {},
   "source": [
    "# Imports\n",
    "\n",
    "#### Referência:\n",
    "https://docs.python.org/3/py-modindex.html"
   ]
  },
  {
   "cell_type": "markdown",
   "metadata": {},
   "source": [
    "### math\n",
    "\n",
    "#### Referência:\n",
    "https://docs.python.org/3/library/math.html"
   ]
  },
  {
   "cell_type": "code",
   "execution_count": 148,
   "metadata": {},
   "outputs": [
    {
     "data": {
      "text/plain": [
       "1.0"
      ]
     },
     "execution_count": 148,
     "metadata": {},
     "output_type": "execute_result"
    }
   ],
   "source": [
    "import math\n",
    "math.log(10,10)"
   ]
  },
  {
   "cell_type": "markdown",
   "metadata": {},
   "source": [
    "### random\n",
    "\n",
    "#### Referência:\n",
    "https://docs.python.org/3/library/random.html"
   ]
  },
  {
   "cell_type": "code",
   "execution_count": 158,
   "metadata": {},
   "outputs": [
    {
     "data": {
      "text/plain": [
       "85"
      ]
     },
     "execution_count": 158,
     "metadata": {},
     "output_type": "execute_result"
    }
   ],
   "source": [
    "import random as rd\n",
    "l = [1,2,3,4]\n",
    "rd.shuffle(l)\n",
    "l\n",
    "rd.randint(10,100)"
   ]
  },
  {
   "cell_type": "markdown",
   "metadata": {},
   "source": [
    "### De um arquivo"
   ]
  },
  {
   "cell_type": "code",
   "execution_count": 160,
   "metadata": {},
   "outputs": [
    {
     "name": "stdout",
     "output_type": "stream",
     "text": [
      "My util\n"
     ]
    }
   ],
   "source": [
    "import util\n",
    "util.my_util()"
   ]
  }
 ],
 "metadata": {
  "kernelspec": {
   "display_name": "Python 3",
   "language": "python",
   "name": "python3"
  },
  "language_info": {
   "codemirror_mode": {
    "name": "ipython",
    "version": 3
   },
   "file_extension": ".py",
   "mimetype": "text/x-python",
   "name": "python",
   "nbconvert_exporter": "python",
   "pygments_lexer": "ipython3",
   "version": "3.6.2"
  }
 },
 "nbformat": 4,
 "nbformat_minor": 2
}
